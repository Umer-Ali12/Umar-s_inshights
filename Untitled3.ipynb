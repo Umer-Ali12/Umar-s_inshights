{
  "nbformat": 4,
  "nbformat_minor": 0,
  "metadata": {
    "colab": {
      "provenance": [],
      "mount_file_id": "1P4XIlWQVkBrpS97sYSZYt9EN20i47MyR",
      "authorship_tag": "ABX9TyOyn4d4r5M0ddlCvCNZkmJa",
      "include_colab_link": true
    },
    "kernelspec": {
      "name": "python3",
      "display_name": "Python 3"
    },
    "language_info": {
      "name": "python"
    }
  },
  "cells": [
    {
      "cell_type": "markdown",
      "metadata": {
        "id": "view-in-github",
        "colab_type": "text"
      },
      "source": [
        "<a href=\"https://colab.research.google.com/github/Umer-Ali12/Umar-s_inshights/blob/Main/Untitled3.ipynb\" target=\"_parent\"><img src=\"https://colab.research.google.com/assets/colab-badge.svg\" alt=\"Open In Colab\"/></a>"
      ]
    },
    {
      "cell_type": "code",
      "execution_count": null,
      "metadata": {
        "id": "_YRxgPdx3wRu"
      },
      "outputs": [],
      "source": []
    },
    {
      "cell_type": "markdown",
      "source": [
        "#NAME: HAFIZ UMER SHAHID\n",
        "\n",
        "###DATASET: GOOGLE STOCK PRICE 2024\n",
        "\n",
        "##ASSINGMENT"
      ],
      "metadata": {
        "id": "n26lZ68W3xEG"
      }
    },
    {
      "cell_type": "markdown",
      "source": [
        "####load Libraries & sklearn.modelimport numpy as np"
      ],
      "metadata": {
        "id": "D4KPTnHc_H-z"
      }
    },
    {
      "cell_type": "code",
      "source": [
        "\n",
        "import pandas as pd\n",
        "from sklearn.model_selection import train_test_split\n",
        "from sklearn.neighbors import KNeighborsRegressor\n",
        "from sklearn.metrics import mean_squared_error\n"
      ],
      "metadata": {
        "id": "eV4VOZzk5wuf"
      },
      "execution_count": 3,
      "outputs": []
    },
    {
      "cell_type": "markdown",
      "source": [
        "####Import Data"
      ],
      "metadata": {
        "id": "N5Xcd8QP_SLO"
      }
    },
    {
      "cell_type": "code",
      "source": [
        "google_stock_df = pd.read_csv('/content/drive/MyDrive/Google stock price2024/UNVR-JK(10).CSV')\n",
        "print(google_stock_df.head())"
      ],
      "metadata": {
        "colab": {
          "base_uri": "https://localhost:8080/"
        },
        "id": "aqzPng1m6QzJ",
        "outputId": "8aefa99a-a81b-4fa5-db30-6e659abe7953"
      },
      "execution_count": 5,
      "outputs": [
        {
          "output_type": "stream",
          "name": "stdout",
          "text": [
            "       Date  Open  High   Low  Close    Adj Close    Volume\n",
            "0  9/3/2003  3075  3375  3025   3375  2167.930664   8632500\n",
            "1  9/4/2003  3450  3750  3375   3425  2200.048096  16570000\n",
            "2  9/5/2003  3425  3500  3400   3450  2216.106934   4811000\n",
            "3  9/8/2003  3450  3450  3325   3400  2183.989990   3601500\n",
            "4  9/9/2003  3400  3400  3300   3325  2135.813477   2815000\n"
          ]
        }
      ]
    },
    {
      "cell_type": "code",
      "source": [
        "Columns = ['Open', 'High', 'Low', 'Adj Close', 'Volume']\n",
        "targeted_column = 'Close'\n",
        "\n",
        "X = google_stock_df[Columns].values\n",
        "y = google_stock_df[targeted_column].values\n",
        "\n",
        "# Split the data into training and testing sets\n",
        "X_train, X_test, y_train, y_test = train_test_split(X, y, test_size=0.2, random_state=42)\n",
        "\n",
        "# Choose K value and train the KNN model\n",
        "k = 3\n",
        "knn_regressor = KNeighborsRegressor(n_neighbors=k)\n",
        "knn_regressor.fit(X_train, y_train)\n",
        "\n",
        "# Make predictions on the test data\n",
        "y_pred = knn_regressor.predict(X_test)\n",
        "\n",
        "# Evaluate the model\n",
        "mse = mean_squared_error(y_test, y_pred)\n",
        "print(f'Mean Squared Error: {mse}')"
      ],
      "metadata": {
        "colab": {
          "base_uri": "https://localhost:8080/"
        },
        "id": "ZBXWSCYfd_CL",
        "outputId": "faaa43dd-3501-4b17-bfda-07bb9b126b79"
      },
      "execution_count": 12,
      "outputs": [
        {
          "output_type": "stream",
          "name": "stdout",
          "text": [
            "Mean Squared Error: 13117961.582872465\n"
          ]
        }
      ]
    }
  ]
}